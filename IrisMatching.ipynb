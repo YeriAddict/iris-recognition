{
 "cells": [
  {
   "cell_type": "code",
   "execution_count": 1,
   "metadata": {},
   "outputs": [
    {
     "name": "stdout",
     "output_type": "stream",
     "text": [
      "Reduced features shape: (2268, 107)\n",
      "Unique labels in train_labels: ['001' '002' '003' '004' '005' '006' '007' '008' '009' '010' '011' '012'\n",
      " '013' '014' '015' '016' '017' '018' '019' '020' '021' '022' '023' '024'\n",
      " '025' '026' '027' '028' '029' '030' '031' '032' '033' '034' '035' '036'\n",
      " '037' '038' '039' '040' '041' '042' '043' '044' '045' '046' '047' '048'\n",
      " '049' '050' '051' '052' '053' '054' '055' '056' '057' '058' '059' '060'\n",
      " '061' '062' '063' '064' '065' '066' '067' '068' '069' '070' '071' '072'\n",
      " '073' '074' '075' '076' '077' '078' '079' '080' '081' '082' '083' '084'\n",
      " '085' '086' '087' '088' '089' '090' '091' '092' '093' '094' '095' '096'\n",
      " '097' '098' '099' '100' '101' '102' '103' '104' '105' '106' '107' '108']\n"
     ]
    },
    {
     "data": {
      "text/plain": [
       "{'001': (107,), '002': (107,), '003': (107,), '004': (107,), '005': (107,)}"
      ]
     },
     "execution_count": 1,
     "metadata": {},
     "output_type": "execute_result"
    }
   ],
   "source": [
    "import numpy as np\n",
    "from sklearn.discriminant_analysis import LinearDiscriminantAnalysis\n",
    "\n",
    "# Simulated data to illustrate the example\n",
    "# Suppose we have 108 unique classes and 2268 samples\n",
    "np.random.seed(0)\n",
    "num_samples = 2268\n",
    "num_features = 1536\n",
    "num_classes = 108\n",
    "\n",
    "# Randomly generate train_features with shape (2268, 1536)\n",
    "train_features = np.random.rand(num_samples, num_features)\n",
    "\n",
    "# Randomly generate train_labels with values from '001' to '108'\n",
    "train_labels = np.array([f\"{i:03}\" for i in np.random.randint(1, num_classes + 1, num_samples)])\n",
    "\n",
    "# Insttrain_features = np.vstack(train_features)antiate and fit LDA model\n",
    "lda = LinearDiscriminantAnalysis(n_components=min(num_classes - 1, num_features))\n",
    "\n",
    "# Perform LDA transformation\n",
    "reduced_features = lda.fit_transform(train_features, train_labels)\n",
    "print(\"Reduced features shape:\", reduced_features.shape)  # Should be (2268, 107)\n",
    "print(\"Unique labels in train_labels:\", np.unique(train_labels))\n",
    "\n",
    "# Compute class centers in the reduced space\n",
    "class_centers = {}\n",
    "for label in np.unique(train_labels):\n",
    "    # Select projected vectors (f) of the current class\n",
    "    class_reduced_features = reduced_features[train_labels == label]\n",
    "    \n",
    "    # Calculate the mean vector for this class in reduced space\n",
    "    class_centers[label] = np.mean(class_reduced_features, axis=0)\n",
    "\n",
    "# Outputting some results for illustration\n",
    "# Display the shape of the mean vector for the first few classes\n",
    "{label: center.shape for label, center in list(class_centers.items())[:5]}\n"
   ]
  }
 ],
 "metadata": {
  "kernelspec": {
   "display_name": "base",
   "language": "python",
   "name": "python3"
  },
  "language_info": {
   "codemirror_mode": {
    "name": "ipython",
    "version": 3
   },
   "file_extension": ".py",
   "mimetype": "text/x-python",
   "name": "python",
   "nbconvert_exporter": "python",
   "pygments_lexer": "ipython3",
   "version": "3.11.4"
  }
 },
 "nbformat": 4,
 "nbformat_minor": 2
}
